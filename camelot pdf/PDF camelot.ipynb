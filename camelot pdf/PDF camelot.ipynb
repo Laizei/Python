{
 "cells": [
  {
   "cell_type": "code",
   "execution_count": null,
   "metadata": {},
   "outputs": [],
   "source": [
    "import camelot\n",
    "\n",
    "# read pdf      \n",
    "tables = camelot.read_pdf('C://jupyter notebook//17taitung.pdf', pages = '1', flavor = 'stream')\n",
    "\n",
    "# 表格\n",
    "print(tables) # list n=1\n",
    "print(tables[0]) # 抓取表格(行，列)\n",
    "#print(tables[0].data)\n",
    "#print(tables[0].df)\n",
    "tables[0].to_csv('test.csv') # 轉成 csv檔"
   ]
  }
 ],
 "metadata": {
  "kernelspec": {
   "display_name": "Python 3",
   "language": "python",
   "name": "python3"
  },
  "language_info": {
   "codemirror_mode": {
    "name": "ipython",
    "version": 3
   },
   "file_extension": ".py",
   "mimetype": "text/x-python",
   "name": "python",
   "nbconvert_exporter": "python",
   "pygments_lexer": "ipython3",
   "version": "3.8.3"
  }
 },
 "nbformat": 4,
 "nbformat_minor": 4
}
